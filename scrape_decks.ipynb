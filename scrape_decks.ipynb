{
 "cells": [
  {
   "attachments": {},
   "cell_type": "markdown",
   "metadata": {},
   "source": [
    "# Web Scrape MtG Decks and Store them in Dataframe using Beautiful Soup"
   ]
  },
  {
   "attachments": {},
   "cell_type": "markdown",
   "metadata": {},
   "source": [
    "| data             | % of total | Description |\n",
    "|------------------|:----------:|:---------|\n",
    "| training         | 60         | Data used to tune model parameters $w$ and $b$ in training or fitting |\n",
    "| cross-validation | 20         | Data used to tune other model parameters like degree of polynomial, regularization or the architecture of a neural network.|\n",
    "| test             | 20         | Data used to test the model after tuning to gauge performance on new data |"
   ]
  },
  {
   "cell_type": "code",
   "execution_count": 38,
   "metadata": {},
   "outputs": [],
   "source": [
    "import pandas as pd\n",
    "import numpy as np\n",
    "from bs4 import BeautifulSoup as bs\n",
    "import requests\n",
    "from selenium import webdriver\n",
    "from selenium.webdriver.common.by import By\n",
    "from selenium.webdriver.support.ui import WebDriverWait\n",
    "from selenium.webdriver.support import expected_conditions as EC\n",
    "import time"
   ]
  },
  {
   "cell_type": "code",
   "execution_count": 3,
   "metadata": {},
   "outputs": [],
   "source": [
    "# Set the URL of mtgtop8.com to a variable\n",
    "mtg_top_8 = 'https://www.mtgtop8.com/'"
   ]
  },
  {
   "cell_type": "code",
   "execution_count": 4,
   "metadata": {},
   "outputs": [],
   "source": [
    "# Define a list of Magic: The Gathering deck archetype formats\n",
    "formats = {\n",
    "    'ST': {'name': 'standard', 'meta': 'meta=58', 'format': 'format?f=ST'},\n",
    "    'PI': {'name': 'pioneer', 'meta': 'meta=191', 'format': 'format?f=PI'},\n",
    "    'MO': {'name': 'modern', 'meta': 'meta=44', 'format': 'format?f=MO'},\n",
    "    'LE': {'name': 'legacy', 'meta': 'meta=16', 'format': 'format?f=LE'},\n",
    "    'HI': {'name': 'historic', 'meta': 'meta=215', 'format': 'format?f=HI'},\n",
    "    'EXP': {'name': 'explorer', 'meta': 'meta=243', 'format': 'format?f=EXP'},\n",
    "    'VI': {'name': 'vintage', 'meta': 'meta=14', 'format': 'format?f=VI'},\n",
    "    'PAU': {'name': 'pauper', 'meta': 'meta=110', 'format': 'format?f=PAU'},\n",
    "    'cEDH': {'name': 'competetive edh', 'meta': None, 'format': 'format?f=cEDH'},\n",
    "}"
   ]
  },
  {
   "cell_type": "code",
   "execution_count": 5,
   "metadata": {},
   "outputs": [],
   "source": [
    "def gen_url(format_keys):\n",
    "    urls = []\n",
    "\n",
    "    for f in format_keys:\n",
    "        try:\n",
    "            url = mtg_top_8 + formats[f]['format'] + '&' + formats[f]['meta']\n",
    "        except:\n",
    "            pass\n",
    "        urls.append(url)\n",
    "    return urls\n",
    "\n",
    "def get_archetypes(url):\n",
    "    archetypes = []\n",
    "\n",
    "    response = requests.get(url)\n",
    "\n",
    "    # Parse the HTML content of the response and create a BeautifulSoup object\n",
    "    soup = bs(response.content, 'html.parser')\n",
    "\n",
    "    # Find all hyperlinks in the parsed HTML that contain an 'href' attribute\n",
    "    for link in soup.find_all('a', href=True):\n",
    "\n",
    "        # Retrieve the value of the 'href' attribute for each hyperlink\n",
    "        href = link.get('href')\n",
    "        \n",
    "        # Check if the string 'archetype?' is present in the value of the 'href' attribute\n",
    "        if 'archetype?' in href:\n",
    "            archetypes.append(href)\n",
    "    return archetypes\n",
    "\n",
    "def get_decks(archetypes, url):\n",
    "    decks = []\n",
    "    # Once we have all the archetypes in a format, we can get a link to all the decks in that archetype\n",
    "    for a in archetypes:\n",
    "        url = url + a\n",
    "\n",
    "        response = requests.get(url)\n",
    "\n",
    "        soup = bs(response.content, 'html.parser')\n",
    "\n",
    "        for link in soup.find_all('a', href=True):\n",
    "\n",
    "            href = link.get('href')\n",
    "\n",
    "            if 'd=' in href:\n",
    "                decks.append(href)\n",
    "    \n",
    "    return decks\n",
    "\n",
    "def get_decklist(decks):\n",
    "    decklists = []\n",
    "\n",
    "    for d in decks:\n",
    "        url = mtg_top_8 + d\n",
    "\n",
    "        response = requests.get(url)\n",
    "\n",
    "        soup = bs(response.content, 'html.parser')\n",
    "\n",
    "        try:\n",
    "            txt = soup.find('div', {'id': 'MTGAdecklist'}).get_text()\n",
    "            decklists.append(txt)\n",
    "        except:\n",
    "            pass\n",
    "    return decklists\n",
    "\n",
    "def get_deck_from_webpage(url):\n",
    "    # Create a new instance of the Chrome driver\n",
    "    driver = webdriver.Chrome()\n",
    "\n",
    "    # Navigate to the desired URL\n",
    "    driver.get(url)\n",
    "\n",
    "    # Find the div element that contains the a element\n",
    "    wait = WebDriverWait(driver, timeout=10, poll_frequency=0.5)\n",
    "    div = wait.until(EC.element_to_be_clickable((By.ID, 'MTGA_button_div')))\n",
    "\n",
    "    # Find the a element within the div element\n",
    "    element = div.find_element(By.TAG_NAME, 'a')\n",
    "\n",
    "    # Click on the element\n",
    "    element.click()\n",
    "\n",
    "    # Get the HTML content of the page after the dynamic content has loaded\n",
    "    html = driver.page_source\n",
    "\n",
    "    # Parse the HTML content with BeautifulSoup\n",
    "    soup = bs(html, 'html.parser')\n",
    "\n",
    "    for link in soup.find_all('textarea'):\n",
    "        if 'MTGAdecklistEN' in str(link):\n",
    "            deck = link.text\n",
    "\n",
    "    # Close the Selenium driver\n",
    "    driver.quit()\n",
    "\n",
    "    return deck\n",
    "\n"
   ]
  },
  {
   "cell_type": "code",
   "execution_count": 31,
   "metadata": {},
   "outputs": [
    {
     "name": "stdout",
     "output_type": "stream",
     "text": [
      "Scraping decklists from: https://www.mtgtop8.com/format?f=ST&meta=58 [1/1]\n"
     ]
    }
   ],
   "source": [
    "# urls = gen_url(formats.keys())\n",
    "urls = gen_url(['ST'])\n",
    "\n",
    "for url in urls:\n",
    "    run = 1\n",
    "    print('Scraping decklists from: ' + url + f' [{run}/{len(urls)}]')\n",
    "\n",
    "    archetype_links = get_archetypes(url)\n",
    "    deck_links = get_decks(archetype_links, url)\n",
    "    decklists = get_decklist(deck_links)\n",
    "\n",
    "    run += 1\n",
    "\n",
    "# event?e=41705&d=509725&f=ST"
   ]
  }
 ],
 "metadata": {
  "kernelspec": {
   "display_name": "venv",
   "language": "python",
   "name": "python3"
  },
  "language_info": {
   "codemirror_mode": {
    "name": "ipython",
    "version": 3
   },
   "file_extension": ".py",
   "mimetype": "text/x-python",
   "name": "python",
   "nbconvert_exporter": "python",
   "pygments_lexer": "ipython3",
   "version": "3.10.4"
  },
  "orig_nbformat": 4,
  "vscode": {
   "interpreter": {
    "hash": "fd2f54ceb42eba7f723a880b517079ab84af31f7a01d6009a1eb8c5d18a9248d"
   }
  }
 },
 "nbformat": 4,
 "nbformat_minor": 2
}
