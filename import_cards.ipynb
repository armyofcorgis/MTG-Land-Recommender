{
 "cells": [
  {
   "cell_type": "code",
   "execution_count": 1,
   "metadata": {},
   "outputs": [],
   "source": [
    "import pandas as pd\n",
    "import numpy as np\n",
    "import os\n",
    "import json\n",
    "# import gui\n",
    "import re"
   ]
  },
  {
   "attachments": {},
   "cell_type": "markdown",
   "metadata": {},
   "source": [
    "## Create a pandas dataframe of all cards"
   ]
  },
  {
   "cell_type": "code",
   "execution_count": 3,
   "metadata": {},
   "outputs": [],
   "source": [
    "# Pull the data from the source json file\n",
    "fp = \"default-cards-20221230100442.json\"\n",
    "df_source = pd.read_json(fp, orient='records')\n",
    "\n",
    "# Subset the source data into only fields we care about\n",
    "lexicon = df_source[[\n",
    "    'id',\n",
    "    'name',\n",
    "    'mana_cost',\n",
    "    'cmc',\n",
    "    'type_line',\n",
    "    'oracle_text',\n",
    "    'power',\n",
    "    'toughness',\n",
    "    'colors',\n",
    "    'color_identity',\n",
    "    'keywords',\n",
    "    'set',\n",
    "    'rarity',\n",
    "    'flavor_text',\n",
    "    'edhrec_rank',\n",
    "    'arena_id',\n",
    "    'loyalty',\n",
    "    'card_faces',\n",
    "]]\n",
    "\n",
    "df_deck = pd.DataFrame(columns=lexicon.columns)"
   ]
  },
  {
   "cell_type": "code",
   "execution_count": 4,
   "metadata": {},
   "outputs": [
    {
     "data": {
      "text/html": [
       "<div>\n",
       "<style scoped>\n",
       "    .dataframe tbody tr th:only-of-type {\n",
       "        vertical-align: middle;\n",
       "    }\n",
       "\n",
       "    .dataframe tbody tr th {\n",
       "        vertical-align: top;\n",
       "    }\n",
       "\n",
       "    .dataframe thead th {\n",
       "        text-align: right;\n",
       "    }\n",
       "</style>\n",
       "<table border=\"1\" class=\"dataframe\">\n",
       "  <thead>\n",
       "    <tr style=\"text-align: right;\">\n",
       "      <th></th>\n",
       "      <th>id</th>\n",
       "      <th>name</th>\n",
       "      <th>mana_cost</th>\n",
       "      <th>cmc</th>\n",
       "      <th>type_line</th>\n",
       "      <th>oracle_text</th>\n",
       "      <th>power</th>\n",
       "      <th>toughness</th>\n",
       "      <th>colors</th>\n",
       "      <th>color_identity</th>\n",
       "      <th>keywords</th>\n",
       "      <th>set</th>\n",
       "      <th>rarity</th>\n",
       "      <th>flavor_text</th>\n",
       "      <th>edhrec_rank</th>\n",
       "      <th>arena_id</th>\n",
       "      <th>loyalty</th>\n",
       "      <th>card_faces</th>\n",
       "    </tr>\n",
       "  </thead>\n",
       "  <tbody>\n",
       "  </tbody>\n",
       "</table>\n",
       "</div>"
      ],
      "text/plain": [
       "Empty DataFrame\n",
       "Columns: [id, name, mana_cost, cmc, type_line, oracle_text, power, toughness, colors, color_identity, keywords, set, rarity, flavor_text, edhrec_rank, arena_id, loyalty, card_faces]\n",
       "Index: []"
      ]
     },
     "execution_count": 4,
     "metadata": {},
     "output_type": "execute_result"
    }
   ],
   "source": [
    "df_deck"
   ]
  }
 ],
 "metadata": {
  "kernelspec": {
   "display_name": "Python 3",
   "language": "python",
   "name": "python3"
  },
  "language_info": {
   "codemirror_mode": {
    "name": "ipython",
    "version": 3
   },
   "file_extension": ".py",
   "mimetype": "text/x-python",
   "name": "python",
   "nbconvert_exporter": "python",
   "pygments_lexer": "ipython3",
   "version": "3.10.4"
  },
  "orig_nbformat": 4,
  "vscode": {
   "interpreter": {
    "hash": "06e03e42e597b5f9bbde1eaa07e2d79a4615660b5ba963eb680d5caa7003dc90"
   }
  }
 },
 "nbformat": 4,
 "nbformat_minor": 2
}
