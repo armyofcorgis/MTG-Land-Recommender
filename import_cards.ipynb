{
 "cells": [
  {
   "cell_type": "code",
   "execution_count": 77,
   "metadata": {},
   "outputs": [],
   "source": [
    "import pandas as pd\n",
    "import numpy as np\n",
    "import os\n",
    "import json\n",
    "# import gui\n",
    "from collections import Counter\n",
    "import re\n",
    "import math as m\n",
    "\n",
    "pd.options.display.max_columns = 20000"
   ]
  },
  {
   "attachments": {},
   "cell_type": "markdown",
   "metadata": {},
   "source": [
    "# Create a pandas dataframe of all cards\n",
    "![Alt Text](https://media.giphy.com/media/vFKqnCdLPNOKc/giphy.gif)"
   ]
  },
  {
   "attachments": {},
   "cell_type": "markdown",
   "metadata": {},
   "source": [
    "### Create initial dataframe and perform some preprocessing tasks"
   ]
  },
  {
   "cell_type": "code",
   "execution_count": 78,
   "metadata": {},
   "outputs": [],
   "source": [
    "lexicon = pd.read_feather('mtg_card_database')\n",
    "colors = [\"W\", \"U\", \"B\", \"R\", \"G\", \"C\"]"
   ]
  },
  {
   "cell_type": "code",
   "execution_count": 79,
   "metadata": {},
   "outputs": [],
   "source": [
    "# Only keep the most recent arena set, dropping all reprints\n",
    "lexicon = lexicon.sort_values(by='arena_id', ascending=False).copy()\n",
    "lexicon = lexicon.drop_duplicates(subset=[\"name\"])\n",
    "\n",
    "# Set the index for card names to easily search\n",
    "def set_index(lexicon):\n",
    "    lexicon = lexicon.set_index(\"name\", drop=False)\n",
    "    lexicon.index.name = \"card_name\"\n",
    "    return lexicon\n",
    "lexicon = set_index(lexicon)\n",
    "\n",
    "# Drop unused columns\n",
    "lexicon = lexicon.drop(columns=['id', 'power', 'toughness', 'color_identity', 'set', 'keywords', 'flavor_text', 'edhrec_rank', 'arena_id', 'loyalty'], inplace=False)"
   ]
  },
  {
   "cell_type": "code",
   "execution_count": 80,
   "metadata": {},
   "outputs": [],
   "source": [
    "# Clean mana_cost\n",
    "def clean_mana_cost(s):\n",
    "    \"\"\"Cleans the mana_cost column by removing curly braces {} and by converting any numbers in mana cost to 1s representation\n",
    "\n",
    "    Args:\n",
    "        s (string): the mana_cost string \n",
    "\n",
    "    Returns:\n",
    "        string: cleaned mana cost\n",
    "    \"\"\"\n",
    "    # If s is not nonetype\n",
    "    try: \n",
    "        s = s.replace(\"{\", \"\").replace(\"}\", \"\")\n",
    "\n",
    "        # If the first character of s is a number\n",
    "        try:\n",
    "            num = int(s[0])\n",
    "            s = s.replace(s[0], '1' * num)\n",
    "        except:\n",
    "            pass\n",
    "    except:\n",
    "        pass\n",
    "\n",
    "    return s\n",
    "\n",
    "lexicon['mana_cost'] = lexicon['mana_cost'].apply(lambda s: clean_mana_cost(s))"
   ]
  },
  {
   "attachments": {},
   "cell_type": "markdown",
   "metadata": {},
   "source": [
    "## Fix Dual-Faced Cards\n",
    "\n",
    "### Extract card data for both sides"
   ]
  },
  {
   "cell_type": "code",
   "execution_count": 81,
   "metadata": {},
   "outputs": [],
   "source": [
    "# Let's first create a dataframe that just has the card name and the column 'card_faces'\n",
    "double_cards_df = lexicon[['name','card_faces']].dropna()\n",
    "\n",
    "# DFC are a list of two dictionaries [ {k:v, k2:v2}, {k3:v3} ]\n",
    "def split_card_faces(row, face_number):\n",
    "    face = row[face_number]\n",
    "    return face\n",
    "\n",
    "face_one = 0\n",
    "face_two = 1\n",
    "double_cards_df['face1'] = double_cards_df['card_faces'].apply(lambda row: split_card_faces(row, face_one))\n",
    "double_cards_df['face2'] = double_cards_df['card_faces'].apply(lambda row: split_card_faces(row, face_two))\n",
    "\n",
    "# # Now let's drop the column 'card_faces'\n",
    "# double_cards_df = double_cards_df.copy()\n",
    "# double_cards_df.drop(\"card_faces\",axis=1)\n",
    "\n",
    "# We now go into each key within the dictionary of face1 and face2 and separate them into columns\n",
    "try:\n",
    "    double_cards_df[double_cards_df['face1'].apply(pd.Series).columns + \"_1\"] = double_cards_df['face1'].apply(pd.Series)\n",
    "    double_cards_df[double_cards_df['face2'].apply(pd.Series).columns + \"_2\"] = double_cards_df['face2'].apply(pd.Series)\n",
    "except:\n",
    "    pass\n",
    "\n",
    "# Define a list of columns we want to keep from the DFCs\n",
    "cols_to_keep = ['name', 'name_1', 'name_2', 'oracle_text_1','oracle_text_2',\n",
    "                'mana_cost_1', 'mana_cost_2', 'type_line_1', 'type_line_2']\n",
    "\n",
    "# For each column in the dataframe, if it's not a selected column, we drop it\n",
    "for col in double_cards_df.columns:\n",
    "    if col not in cols_to_keep:\n",
    "        double_cards_df.drop(col, axis=1, inplace=True)\n",
    "\n",
    "# We now need to consolidate the 2 oracle texts into 1, we join them together\n",
    "double_cards_df['oracle_text_dobles'] = double_cards_df['oracle_text_1'] + \"\\n\" + double_cards_df['oracle_text_2']\n",
    "\n",
    "# Clean the mana costs\n",
    "double_cards_df['mana_cost_1'] = double_cards_df['mana_cost_1'].apply(lambda s: clean_mana_cost(s))\n",
    "double_cards_df['mana_cost_2'] = double_cards_df['mana_cost_2'].apply(lambda s: clean_mana_cost(s))"
   ]
  },
  {
   "cell_type": "code",
   "execution_count": 82,
   "metadata": {},
   "outputs": [],
   "source": [
    "# We now merge them by card name\n",
    "lexicon = lexicon.merge(double_cards_df, on=[\"name\"], how=\"left\")"
   ]
  },
  {
   "cell_type": "code",
   "execution_count": 83,
   "metadata": {},
   "outputs": [],
   "source": [
    "# If oracle_text is empty (meaning it's a double faced card), we replace it with our 'oracle_text_dobles' column\n",
    "lexicon['oracle_text'] = np.where(lexicon['oracle_text'].isna(),lexicon['oracle_text_dobles'],lexicon['oracle_text'])\n"
   ]
  },
  {
   "cell_type": "code",
   "execution_count": 84,
   "metadata": {},
   "outputs": [],
   "source": [
    "# Drop secret lair dual faced cards which should be single faced cards\n",
    "tmpdf = lexicon[lexicon['name'].str.contains(\"//\")]\n",
    "mask = tmpdf[tmpdf['type_line'].isna()]\n",
    "lexicon = lexicon[~lexicon['name'].isin(mask['name'])]"
   ]
  },
  {
   "cell_type": "code",
   "execution_count": 85,
   "metadata": {},
   "outputs": [],
   "source": [
    "# We use this script to replace Nulls with \"None\"\n",
    "# lexicon[['oracle_text_1','oracle_text_2']] = lexicon[['oracle_text_1','oracle_text_2']]\n",
    "\n",
    "# try:\n",
    "#     lexicon[['name', 'name_1', 'name_2', 'oracle_text_1','oracle_text_2',\n",
    "#                 'mana_cost_1', 'mana_cost_2', 'type_line_1', 'type_line_2']] = lexicon[['name', 'name_1', 'name_2', 'oracle_text_1','oracle_text_2',\n",
    "#                                                                                         'mana_cost_1', 'mana_cost_2', 'type_line_1', 'type_line_2']]\n",
    "# except:\n",
    "#     pass\n",
    "\n",
    "# Now that we have our oracle text from the 2 card sides joined together, we want to use it to replace\n",
    "# the actual \"oracle_text\" from the original dataframe, which is actually empty\n",
    "\n",
    "# lexicon = set_index(lexicon)\n",
    "\n",
    "# # And now that column is useless so we drop it\n",
    "# lexicon = lexicon.drop(\"oracle_text_dobles\",axis=1)"
   ]
  },
  {
   "attachments": {},
   "cell_type": "markdown",
   "metadata": {},
   "source": [
    "### Average the mana cost of both sides as well as the cmc"
   ]
  },
  {
   "cell_type": "code",
   "execution_count": 86,
   "metadata": {},
   "outputs": [],
   "source": [
    "def dfc_avg_mana_cost_and_cmc(row):\n",
    "    \"\"\"Averages the mana cost for dual-faced cards and the cmc\n",
    "\n",
    "    Args:\n",
    "        row (pd.Series): one row of the lexicon df\n",
    "\n",
    "    Returns:\n",
    "        tuple of strings: averaged mana cost and average cmc\n",
    "    \"\"\"\n",
    "    # Only for dual faced cards\n",
    "    if isinstance(row.card_faces, type(np.ndarray(0))):\n",
    "        # Initialize return value\n",
    "        mana_cost = ''\n",
    "        # Only for DFC with mana costs\n",
    "        try:\n",
    "            # Count the values of each mana symbol and add them together into a dictionary\n",
    "            s1 = Counter(row.mana_cost_1)\n",
    "            s2 = Counter(row.mana_cost_2)\n",
    "            s3 = s1+s2\n",
    "            if s3 == s1:\n",
    "                row.mana_cost = row.mana_cost_1\n",
    "                return row\n",
    "            elif s3 == s2:\n",
    "                row.mana_cost = row.mana_cost_2\n",
    "                return row\n",
    "            s4 = dict(s3)\n",
    "            # Divide all the values by 2 rounded up for Mana symbols and down for generic costs\n",
    "            for k in s4.keys():\n",
    "                # If there is a generic casting cost\n",
    "                try:\n",
    "                    int(k)\n",
    "                    s4[k] = max(m.floor(s4[k] / 2), 1)\n",
    "                # If there is a colored mana symbol\n",
    "                except:\n",
    "                    s4[k] = m.ceil(s4[k] / 2)\n",
    "                # concatenate the dict back into a string\n",
    "                mana_cost += (k * s4[k])\n",
    "            # Average cmc which is a return value\n",
    "            avg_cmc = sum(s3.values()) / 2\n",
    "            row.cmc = avg_cmc\n",
    "            row.mana_cost = mana_cost\n",
    "            # Return the averaged mana cost as a string\n",
    "            return row\n",
    "        except:\n",
    "            pass\n",
    "    # If its not a DFC then just return the mana_cost already present\n",
    "    return row\n",
    "\n",
    "lexicon = lexicon.apply(dfc_avg_mana_cost_and_cmc, axis=1)"
   ]
  },
  {
   "attachments": {},
   "cell_type": "markdown",
   "metadata": {},
   "source": [
    "### Create columns for casting cost pips"
   ]
  },
  {
   "cell_type": "code",
   "execution_count": 87,
   "metadata": {},
   "outputs": [],
   "source": [
    "def count_pips(mana_cost):\n",
    "    \"\"\"Count the number of pips in each color for a given mana cost\n",
    "\n",
    "    Args:\n",
    "        mana_cost (str): string representation of the mana cost\n",
    "\n",
    "    Returns:\n",
    "        dict: number of pips for each color\n",
    "    \"\"\"\n",
    "    pips = Counter(mana_cost)\n",
    "    result = {f'cast_cost_{color}': pips[f'{color}'] for color in colors}\n",
    "    return result\n",
    "\n",
    "pips = lexicon['mana_cost'].apply(count_pips)\n",
    "pips_df = pd.DataFrame(list(pips))\n",
    "lexicon = pd.concat([lexicon, pips_df], axis=1)\n"
   ]
  },
  {
   "cell_type": "code",
   "execution_count": 71,
   "metadata": {},
   "outputs": [
    {
     "data": {
      "text/html": [
       "<div>\n",
       "<style scoped>\n",
       "    .dataframe tbody tr th:only-of-type {\n",
       "        vertical-align: middle;\n",
       "    }\n",
       "\n",
       "    .dataframe tbody tr th {\n",
       "        vertical-align: top;\n",
       "    }\n",
       "\n",
       "    .dataframe thead th {\n",
       "        text-align: right;\n",
       "    }\n",
       "</style>\n",
       "<table border=\"1\" class=\"dataframe\">\n",
       "  <thead>\n",
       "    <tr style=\"text-align: right;\">\n",
       "      <th></th>\n",
       "      <th>name</th>\n",
       "      <th>mana_cost</th>\n",
       "      <th>cmc</th>\n",
       "      <th>type_line</th>\n",
       "      <th>oracle_text</th>\n",
       "      <th>colors</th>\n",
       "      <th>produced_mana</th>\n",
       "      <th>rarity</th>\n",
       "      <th>card_faces</th>\n",
       "      <th>mana_cost_1</th>\n",
       "      <th>name_1</th>\n",
       "      <th>oracle_text_1</th>\n",
       "      <th>type_line_1</th>\n",
       "      <th>mana_cost_2</th>\n",
       "      <th>name_2</th>\n",
       "      <th>oracle_text_2</th>\n",
       "      <th>type_line_2</th>\n",
       "      <th>oracle_text_dobles</th>\n",
       "      <th>cast_cost_W</th>\n",
       "      <th>cast_cost_U</th>\n",
       "      <th>cast_cost_B</th>\n",
       "      <th>cast_cost_R</th>\n",
       "      <th>cast_cost_G</th>\n",
       "      <th>cast_cost_C</th>\n",
       "    </tr>\n",
       "  </thead>\n",
       "  <tbody>\n",
       "    <tr>\n",
       "      <th>9052</th>\n",
       "      <td>Kozilek, Butcher of Truth</td>\n",
       "      <td>10</td>\n",
       "      <td>10.0</td>\n",
       "      <td>Legendary Creature — Eldrazi</td>\n",
       "      <td>When you cast this spell, draw four cards.\\nAn...</td>\n",
       "      <td>[]</td>\n",
       "      <td>None</td>\n",
       "      <td>mythic</td>\n",
       "      <td>None</td>\n",
       "      <td>NaN</td>\n",
       "      <td>NaN</td>\n",
       "      <td>NaN</td>\n",
       "      <td>NaN</td>\n",
       "      <td>NaN</td>\n",
       "      <td>NaN</td>\n",
       "      <td>NaN</td>\n",
       "      <td>NaN</td>\n",
       "      <td>NaN</td>\n",
       "      <td>0.0</td>\n",
       "      <td>0.0</td>\n",
       "      <td>0.0</td>\n",
       "      <td>1.0</td>\n",
       "      <td>0.0</td>\n",
       "      <td>0.0</td>\n",
       "    </tr>\n",
       "  </tbody>\n",
       "</table>\n",
       "</div>"
      ],
      "text/plain": [
       "                           name mana_cost   cmc                     type_line  \\\n",
       "9052  Kozilek, Butcher of Truth        10  10.0  Legendary Creature — Eldrazi   \n",
       "\n",
       "                                            oracle_text colors produced_mana  \\\n",
       "9052  When you cast this spell, draw four cards.\\nAn...     []          None   \n",
       "\n",
       "      rarity card_faces mana_cost_1 name_1 oracle_text_1 type_line_1  \\\n",
       "9052  mythic       None         NaN    NaN           NaN         NaN   \n",
       "\n",
       "     mana_cost_2 name_2 oracle_text_2 type_line_2 oracle_text_dobles  \\\n",
       "9052         NaN    NaN           NaN         NaN                NaN   \n",
       "\n",
       "      cast_cost_W  cast_cost_U  cast_cost_B  cast_cost_R  cast_cost_G  \\\n",
       "9052          0.0          0.0          0.0          1.0          0.0   \n",
       "\n",
       "      cast_cost_C  \n",
       "9052          0.0  "
      ]
     },
     "execution_count": 71,
     "metadata": {},
     "output_type": "execute_result"
    }
   ],
   "source": [
    "lexicon[lexicon['name'] == \"Kozilek, Butcher of Truth\"]"
   ]
  },
  {
   "cell_type": "code",
   "execution_count": 76,
   "metadata": {},
   "outputs": [
    {
     "ename": "TypeError",
     "evalue": "'float' object is not iterable",
     "output_type": "error",
     "traceback": [
      "\u001b[1;31m---------------------------------------------------------------------------\u001b[0m",
      "\u001b[1;31mTypeError\u001b[0m                                 Traceback (most recent call last)",
      "Cell \u001b[1;32mIn[76], line 18\u001b[0m\n\u001b[0;32m     14\u001b[0m         row[\u001b[39mf\u001b[39m\u001b[39m'\u001b[39m\u001b[39m{\u001b[39;00mrow_name\u001b[39m}\u001b[39;00m\u001b[39m'\u001b[39m] \u001b[39m=\u001b[39m pips[\u001b[39mf\u001b[39m\u001b[39m'\u001b[39m\u001b[39m{\u001b[39;00mcolor\u001b[39m}\u001b[39;00m\u001b[39m'\u001b[39m]\n\u001b[0;32m     16\u001b[0m     \u001b[39mreturn\u001b[39;00m row\n\u001b[1;32m---> 18\u001b[0m lexicon \u001b[39m=\u001b[39m lexicon\u001b[39m.\u001b[39;49mapply(count_pips, axis\u001b[39m=\u001b[39;49m\u001b[39m1\u001b[39;49m)\n\u001b[0;32m     20\u001b[0m \u001b[39m# print(count_pips(\"WUBRG\")[\"R\"])\u001b[39;00m\n\u001b[0;32m     21\u001b[0m lexicon\n",
      "File \u001b[1;32mc:\\Users\\Peter\\AppData\\Local\\Programs\\Python\\Python310\\lib\\site-packages\\pandas\\core\\frame.py:8833\u001b[0m, in \u001b[0;36mDataFrame.apply\u001b[1;34m(self, func, axis, raw, result_type, args, **kwargs)\u001b[0m\n\u001b[0;32m   8822\u001b[0m \u001b[39mfrom\u001b[39;00m \u001b[39mpandas\u001b[39;00m\u001b[39m.\u001b[39;00m\u001b[39mcore\u001b[39;00m\u001b[39m.\u001b[39;00m\u001b[39mapply\u001b[39;00m \u001b[39mimport\u001b[39;00m frame_apply\n\u001b[0;32m   8824\u001b[0m op \u001b[39m=\u001b[39m frame_apply(\n\u001b[0;32m   8825\u001b[0m     \u001b[39mself\u001b[39m,\n\u001b[0;32m   8826\u001b[0m     func\u001b[39m=\u001b[39mfunc,\n\u001b[1;32m   (...)\u001b[0m\n\u001b[0;32m   8831\u001b[0m     kwargs\u001b[39m=\u001b[39mkwargs,\n\u001b[0;32m   8832\u001b[0m )\n\u001b[1;32m-> 8833\u001b[0m \u001b[39mreturn\u001b[39;00m op\u001b[39m.\u001b[39;49mapply()\u001b[39m.\u001b[39m__finalize__(\u001b[39mself\u001b[39m, method\u001b[39m=\u001b[39m\u001b[39m\"\u001b[39m\u001b[39mapply\u001b[39m\u001b[39m\"\u001b[39m)\n",
      "File \u001b[1;32mc:\\Users\\Peter\\AppData\\Local\\Programs\\Python\\Python310\\lib\\site-packages\\pandas\\core\\apply.py:727\u001b[0m, in \u001b[0;36mFrameApply.apply\u001b[1;34m(self)\u001b[0m\n\u001b[0;32m    724\u001b[0m \u001b[39melif\u001b[39;00m \u001b[39mself\u001b[39m\u001b[39m.\u001b[39mraw:\n\u001b[0;32m    725\u001b[0m     \u001b[39mreturn\u001b[39;00m \u001b[39mself\u001b[39m\u001b[39m.\u001b[39mapply_raw()\n\u001b[1;32m--> 727\u001b[0m \u001b[39mreturn\u001b[39;00m \u001b[39mself\u001b[39;49m\u001b[39m.\u001b[39;49mapply_standard()\n",
      "File \u001b[1;32mc:\\Users\\Peter\\AppData\\Local\\Programs\\Python\\Python310\\lib\\site-packages\\pandas\\core\\apply.py:851\u001b[0m, in \u001b[0;36mFrameApply.apply_standard\u001b[1;34m(self)\u001b[0m\n\u001b[0;32m    850\u001b[0m \u001b[39mdef\u001b[39;00m \u001b[39mapply_standard\u001b[39m(\u001b[39mself\u001b[39m):\n\u001b[1;32m--> 851\u001b[0m     results, res_index \u001b[39m=\u001b[39m \u001b[39mself\u001b[39;49m\u001b[39m.\u001b[39;49mapply_series_generator()\n\u001b[0;32m    853\u001b[0m     \u001b[39m# wrap results\u001b[39;00m\n\u001b[0;32m    854\u001b[0m     \u001b[39mreturn\u001b[39;00m \u001b[39mself\u001b[39m\u001b[39m.\u001b[39mwrap_results(results, res_index)\n",
      "File \u001b[1;32mc:\\Users\\Peter\\AppData\\Local\\Programs\\Python\\Python310\\lib\\site-packages\\pandas\\core\\apply.py:867\u001b[0m, in \u001b[0;36mFrameApply.apply_series_generator\u001b[1;34m(self)\u001b[0m\n\u001b[0;32m    864\u001b[0m \u001b[39mwith\u001b[39;00m option_context(\u001b[39m\"\u001b[39m\u001b[39mmode.chained_assignment\u001b[39m\u001b[39m\"\u001b[39m, \u001b[39mNone\u001b[39;00m):\n\u001b[0;32m    865\u001b[0m     \u001b[39mfor\u001b[39;00m i, v \u001b[39min\u001b[39;00m \u001b[39menumerate\u001b[39m(series_gen):\n\u001b[0;32m    866\u001b[0m         \u001b[39m# ignore SettingWithCopy here in case the user mutates\u001b[39;00m\n\u001b[1;32m--> 867\u001b[0m         results[i] \u001b[39m=\u001b[39m \u001b[39mself\u001b[39;49m\u001b[39m.\u001b[39;49mf(v)\n\u001b[0;32m    868\u001b[0m         \u001b[39mif\u001b[39;00m \u001b[39misinstance\u001b[39m(results[i], ABCSeries):\n\u001b[0;32m    869\u001b[0m             \u001b[39m# If we have a view on v, we need to make a copy because\u001b[39;00m\n\u001b[0;32m    870\u001b[0m             \u001b[39m#  series_generator will swap out the underlying data\u001b[39;00m\n\u001b[0;32m    871\u001b[0m             results[i] \u001b[39m=\u001b[39m results[i]\u001b[39m.\u001b[39mcopy(deep\u001b[39m=\u001b[39m\u001b[39mFalse\u001b[39;00m)\n",
      "Cell \u001b[1;32mIn[76], line 10\u001b[0m, in \u001b[0;36mcount_pips\u001b[1;34m(row)\u001b[0m\n\u001b[0;32m      1\u001b[0m \u001b[39mdef\u001b[39;00m \u001b[39mcount_pips\u001b[39m(row):\n\u001b[0;32m      2\u001b[0m \u001b[39m    \u001b[39m\u001b[39m\"\"\"Applied to the mana_cost column in lexicon to create columns for the number of pips in that color for each color\u001b[39;00m\n\u001b[0;32m      3\u001b[0m \n\u001b[0;32m      4\u001b[0m \u001b[39m    Args:\u001b[39;00m\n\u001b[1;32m   (...)\u001b[0m\n\u001b[0;32m      8\u001b[0m \u001b[39m        pd.Series: new row with created casting cost pip columns\u001b[39;00m\n\u001b[0;32m      9\u001b[0m \u001b[39m    \"\"\"\u001b[39;00m\n\u001b[1;32m---> 10\u001b[0m     pips \u001b[39m=\u001b[39m Counter(row\u001b[39m.\u001b[39;49mmana_cost)\n\u001b[0;32m     12\u001b[0m     \u001b[39mfor\u001b[39;00m color \u001b[39min\u001b[39;00m colors:\n\u001b[0;32m     13\u001b[0m         row_name \u001b[39m=\u001b[39m \u001b[39m'\u001b[39m\u001b[39mcast_cost_\u001b[39m\u001b[39m{}\u001b[39;00m\u001b[39m'\u001b[39m\u001b[39m.\u001b[39mformat(color)\n",
      "File \u001b[1;32mc:\\Users\\Peter\\AppData\\Local\\Programs\\Python\\Python310\\lib\\collections\\__init__.py:577\u001b[0m, in \u001b[0;36mCounter.__init__\u001b[1;34m(self, iterable, **kwds)\u001b[0m\n\u001b[0;32m    566\u001b[0m \u001b[39m\u001b[39m\u001b[39m'''Create a new, empty Counter object.  And if given, count elements\u001b[39;00m\n\u001b[0;32m    567\u001b[0m \u001b[39mfrom an input iterable.  Or, initialize the count from another mapping\u001b[39;00m\n\u001b[0;32m    568\u001b[0m \u001b[39mof elements to their counts.\u001b[39;00m\n\u001b[1;32m   (...)\u001b[0m\n\u001b[0;32m    574\u001b[0m \n\u001b[0;32m    575\u001b[0m \u001b[39m'''\u001b[39;00m\n\u001b[0;32m    576\u001b[0m \u001b[39msuper\u001b[39m()\u001b[39m.\u001b[39m\u001b[39m__init__\u001b[39m()\n\u001b[1;32m--> 577\u001b[0m \u001b[39mself\u001b[39m\u001b[39m.\u001b[39mupdate(iterable, \u001b[39m*\u001b[39m\u001b[39m*\u001b[39mkwds)\n",
      "File \u001b[1;32mc:\\Users\\Peter\\AppData\\Local\\Programs\\Python\\Python310\\lib\\collections\\__init__.py:670\u001b[0m, in \u001b[0;36mCounter.update\u001b[1;34m(self, iterable, **kwds)\u001b[0m\n\u001b[0;32m    668\u001b[0m             \u001b[39msuper\u001b[39m()\u001b[39m.\u001b[39mupdate(iterable)\n\u001b[0;32m    669\u001b[0m     \u001b[39melse\u001b[39;00m:\n\u001b[1;32m--> 670\u001b[0m         _count_elements(\u001b[39mself\u001b[39;49m, iterable)\n\u001b[0;32m    671\u001b[0m \u001b[39mif\u001b[39;00m kwds:\n\u001b[0;32m    672\u001b[0m     \u001b[39mself\u001b[39m\u001b[39m.\u001b[39mupdate(kwds)\n",
      "\u001b[1;31mTypeError\u001b[0m: 'float' object is not iterable"
     ]
    }
   ],
   "source": [
    "def count_pips(row):\n",
    "    \"\"\"Applied to the mana_cost column in lexicon to create columns for the number of pips in that color for each color\n",
    "\n",
    "    Args:\n",
    "        row (pd.Series): row in lexicon\n",
    "\n",
    "    Returns:\n",
    "        pd.Series: new row with created casting cost pip columns\n",
    "    \"\"\"\n",
    "    pips = Counter(row.mana_cost)\n",
    "\n",
    "    for color in colors:\n",
    "        row_name = 'cast_cost_{}'.format(color)\n",
    "        row[f'{row_name}'] = pips[f'{color}']\n",
    "\n",
    "    return row\n",
    "\n",
    "lexicon = lexicon.apply(count_pips, axis=1)\n",
    "\n",
    "# print(count_pips(\"WUBRG\")[\"R\"])\n",
    "lexicon"
   ]
  },
  {
   "cell_type": "code",
   "execution_count": 277,
   "metadata": {},
   "outputs": [],
   "source": [
    "# A copy of the lexicon df is created so that we can avoid making changes to a copy of a sliced df\n",
    "lexicon = lexicon.copy()\n",
    "lexicon.loc[:, 'cast_cost_W'] = lexicon['mana_cost'].map(lambda s: count_pips(s)['W'], na_action='ignore')\n",
    "lexicon.loc[:, 'cast_cost_U'] = lexicon['mana_cost'].map(lambda s: count_pips(s)['U'], na_action='ignore')\n",
    "lexicon.loc[:, 'cast_cost_B'] = lexicon['mana_cost'].map(lambda s: count_pips(s)['B'], na_action='ignore')\n",
    "lexicon.loc[:, 'cast_cost_R'] = lexicon['mana_cost'].map(lambda s: count_pips(s)['R'], na_action='ignore')\n",
    "lexicon.loc[:, 'cast_cost_G'] = lexicon['mana_cost'].map(lambda s: count_pips(s)['G'], na_action='ignore')\n",
    "lexicon.loc[:, 'cast_cost_C'] = lexicon['mana_cost'].map(lambda s: count_pips(s)['C'], na_action='ignore')\n"
   ]
  },
  {
   "attachments": {},
   "cell_type": "markdown",
   "metadata": {},
   "source": [
    "### Create columns for produced mana colors of non-land cards"
   ]
  },
  {
   "cell_type": "code",
   "execution_count": 279,
   "metadata": {},
   "outputs": [
    {
     "name": "stdout",
     "output_type": "stream",
     "text": [
      "Counter({'B': 1})\n"
     ]
    }
   ],
   "source": [
    "def count_produced_mana(s):\n",
    "    \"\"\"Applied to the produced_mana column, returns the colors produced by a card\n",
    "\n",
    "    Args:\n",
    "        s (List[str]): \n",
    "\n",
    "    Returns:\n",
    "        prod_mana: _description_\n",
    "    \"\"\"    \n",
    "    return Counter(s)\n",
    "\n",
    "print(count_produced_mana(['B']))"
   ]
  },
  {
   "cell_type": "code",
   "execution_count": 280,
   "metadata": {},
   "outputs": [],
   "source": [
    "lexicon.loc[:, 'produces_W'] = lexicon['produced_mana'].map(lambda s: count_produced_mana(s)['W'], na_action='ignore')\n",
    "lexicon.loc[:, 'produces_U'] = lexicon['produced_mana'].map(lambda s: count_produced_mana(s)['U'], na_action='ignore')\n",
    "lexicon.loc[:, 'produces_B'] = lexicon['produced_mana'].map(lambda s: count_produced_mana(s)['B'], na_action='ignore')\n",
    "lexicon.loc[:, 'produces_R'] = lexicon['produced_mana'].map(lambda s: count_produced_mana(s)['R'], na_action='ignore')\n",
    "lexicon.loc[:, 'produces_G'] = lexicon['produced_mana'].map(lambda s: count_produced_mana(s)['G'], na_action='ignore')\n",
    "lexicon.loc[:, 'produces_C'] = lexicon['produced_mana'].map(lambda s: count_produced_mana(s)['C'], na_action='ignore')\n"
   ]
  },
  {
   "attachments": {},
   "cell_type": "markdown",
   "metadata": {},
   "source": [
    "- Mana_Costs\n",
    "    - Phyrexian Mana\n",
    "    - Dual Color (either red or white mana can be used to pay for RW)\n",
    "    - X cost (average value for X is math.floor(4 / num_x))\n",
    "- Mana Cost Pips Optimizing\n",
    "- Card Selection\n",
    "    - define RegEx pattern\n",
    "    - Create method\n",
    "- Cards which make treasure\n",
    "- Beautiful Soup\n",
    "    - How to use it\n",
    "    - How big do we want our dataset\n",
    "    - How do we store the dataframes???"
   ]
  }
 ],
 "metadata": {
  "kernelspec": {
   "display_name": "Python 3",
   "language": "python",
   "name": "python3"
  },
  "language_info": {
   "codemirror_mode": {
    "name": "ipython",
    "version": 3
   },
   "file_extension": ".py",
   "mimetype": "text/x-python",
   "name": "python",
   "nbconvert_exporter": "python",
   "pygments_lexer": "ipython3",
   "version": "3.10.4"
  },
  "orig_nbformat": 4,
  "vscode": {
   "interpreter": {
    "hash": "06e03e42e597b5f9bbde1eaa07e2d79a4615660b5ba963eb680d5caa7003dc90"
   }
  }
 },
 "nbformat": 4,
 "nbformat_minor": 2
}
